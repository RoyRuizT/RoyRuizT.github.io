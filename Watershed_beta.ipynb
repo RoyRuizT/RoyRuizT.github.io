{
 "cells": [
  {
   "cell_type": "markdown",
   "id": "23d33ef5-5750-42e4-a642-1d225bff8f63",
   "metadata": {},
   "source": [
    "Script Objective: To delineate watersheds from a Digital Elevation Model (DEM) and create a shapefile containing the watershed polygons.\n",
    "\n",
    "Work plan:\n",
    "1. Data acquisition\n",
    "    - Obtaining DEM: Acquire a suitable Digital Elevation Model (DEM) for tests.\n",
    "3. Environment setup\n",
    "    - Installing required libraries and Jupyter Notebook\n",
    "4. Script writing\n",
    "    - Load the DEM\n",
    "    - Identify stream network\n",
    "    - Identify peaks and ridges in the DEM\n",
    "    - Delineate watersheds\n",
    "    - Convert to shapefile"
   ]
  },
  {
   "cell_type": "code",
   "execution_count": 141,
   "id": "cbab7fc6-0415-4110-8cde-250b8296bd33",
   "metadata": {},
   "outputs": [],
   "source": [
    "#Importing necessary modules\n",
    "import geopandas as gpd\n",
    "import rasterio as rio\n",
    "import skimage as ski\n",
    "import scipy as sp\n",
    "import numpy as np"
   ]
  },
  {
   "cell_type": "code",
   "execution_count": 142,
   "id": "aea2e93e-af19-43e3-a956-a97e843a281b",
   "metadata": {},
   "outputs": [],
   "source": [
    "#Opening the DEM data\n",
    "dem = rio.open(r'C:\\Users\\rrztscno\\Downloads\\7950_3050.tif')\n",
    "\n",
    "#Reading the first band (elevation data)\n",
    "dem_array = dem.read(1)\n",
    "\n",
    "#Getting the transformation and coordinate reference system\n",
    "transform = dem.transform\n",
    "crs = dem.crs"
   ]
  },
  {
   "cell_type": "code",
   "execution_count": 143,
   "id": "1a79de1a-dc16-43ed-8a77-2b058cdbe99f",
   "metadata": {},
   "outputs": [],
   "source": [
    "#Creating a binary mask (0 for nodata, 1 for valid data)\n",
    "binary_mask = dem_array > 0\n",
    "\n",
    "#Removing small holes in the mask\n",
    "filled_mask = ski.morphology.remove_small_holes(binary_mask)\n",
    "\n",
    "#Obtaining a dem excluding nodata values\n",
    "filled_dem = filled_mask * dem_array"
   ]
  },
  {
   "cell_type": "code",
   "execution_count": 144,
   "id": "a0bbab7e-59c3-4b8f-b3c9-efa5251acda4",
   "metadata": {},
   "outputs": [],
   "source": [
    "#Calculating the 5th percentile threshold for stream delineation (lower values are the streams)\n",
    "percentile = 5\n",
    "threshold = np.percentile(filled_dem, percentile)\n",
    "\n",
    "#Creating a stream network based on the threshold\n",
    "stream_mask = dem_array < threshold"
   ]
  },
  {
   "cell_type": "code",
   "execution_count": 145,
   "id": "9ba13aef-9379-48f5-91d8-0ca85f9d7ccf",
   "metadata": {},
   "outputs": [],
   "source": [
    "#Generate markers for watershed segmentation\n",
    "markers = sp.ndimage.label(stream_mask)[1]\n",
    "\n",
    "#Performing watershed segmentation using the negative filled DEM (streams become ridges and ridges become streams)\n",
    "labels = ski.segmentation.watershed(filled_dem, markers)"
   ]
  },
  {
   "cell_type": "code",
   "execution_count": 146,
   "id": "dee8577c-a26c-4e24-94de-9498450ae0cb",
   "metadata": {},
   "outputs": [],
   "source": [
    "#Converting watershed labels to GeoDataFrame features\n",
    "from rasterio import features\n",
    "ws_geoms = features.shapes(labels, transform=transform)\n",
    "ws_features = []\n",
    "for geom, attr in ws_geoms:\n",
    "    ws_features.append({'geometry': geom,'properties': None})\n",
    "watersheds = gpd.GeoDataFrame.from_features(ws_features, crs=crs)"
   ]
  },
  {
   "cell_type": "code",
   "execution_count": 147,
   "id": "33b11acb-613a-439d-b9cf-1098ab1de6f6",
   "metadata": {},
   "outputs": [],
   "source": [
    "#Saving the watersheds as a shapefile\n",
    "watersheds.to_file(r'C:\\Users\\rrztscno\\Downloads\\watersheds.shp')"
   ]
  },
  {
   "cell_type": "markdown",
   "id": "e556869b-26d9-49ff-9ac2-608837829ddb",
   "metadata": {},
   "source": [
    "Future work plan: \n",
    "1. Quality control with different DEMs and areas to evaluate effectiveness\n",
    "2. Possibility of adding stream network shapefile in the output\n",
    "3. Compile all code into a python function with the DEM as argument"
   ]
  },
  {
   "cell_type": "code",
   "execution_count": null,
   "id": "bca515ad-c935-4392-a413-17608289491d",
   "metadata": {},
   "outputs": [],
   "source": []
  }
 ],
 "metadata": {
  "kernelspec": {
   "display_name": "Python 3 (ipykernel)",
   "language": "python",
   "name": "python3"
  },
  "language_info": {
   "codemirror_mode": {
    "name": "ipython",
    "version": 3
   },
   "file_extension": ".py",
   "mimetype": "text/x-python",
   "name": "python",
   "nbconvert_exporter": "python",
   "pygments_lexer": "ipython3",
   "version": "3.12.3"
  }
 },
 "nbformat": 4,
 "nbformat_minor": 5
}
